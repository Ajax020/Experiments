{
 "cells": [
  {
   "cell_type": "code",
   "execution_count": 3,
   "metadata": {},
   "outputs": [
    {
     "name": "stdout",
     "output_type": "stream",
     "text": [
      "Epoch 1/10\n",
      "469/469 [==============================] - 6s 8ms/step - loss: 0.2594 - val_loss: 0.1901\n",
      "Epoch 2/10\n",
      "469/469 [==============================] - 4s 8ms/step - loss: 0.1742 - val_loss: 0.1614\n",
      "Epoch 3/10\n",
      "469/469 [==============================] - 4s 8ms/step - loss: 0.1550 - val_loss: 0.1476\n",
      "Epoch 4/10\n",
      "469/469 [==============================] - 4s 8ms/step - loss: 0.1457 - val_loss: 0.1412\n",
      "Epoch 5/10\n",
      "469/469 [==============================] - 4s 8ms/step - loss: 0.1398 - val_loss: 0.1366\n",
      "Epoch 6/10\n",
      "469/469 [==============================] - 4s 8ms/step - loss: 0.1365 - val_loss: 0.1337\n",
      "Epoch 7/10\n",
      "469/469 [==============================] - 3s 6ms/step - loss: 0.1342 - val_loss: 0.1318\n",
      "Epoch 8/10\n",
      "469/469 [==============================] - 4s 8ms/step - loss: 0.1327 - val_loss: 0.1307\n",
      "Epoch 9/10\n",
      "469/469 [==============================] - 4s 8ms/step - loss: 0.1317 - val_loss: 0.1299\n",
      "Epoch 10/10\n",
      "469/469 [==============================] - 4s 8ms/step - loss: 0.1311 - val_loss: 0.1292\n",
      "313/313 [==============================] - 1s 3ms/step\n"
     ]
    }
   ],
   "source": [
    "#Auto Encoder\n",
    "\n",
    "from tensorflow.keras.datasets import mnist\n",
    "from tensorflow.keras.models import Sequential\n",
    "from tensorflow.keras.layers import Dense\n",
    "\n",
    "# Load MNIST dataset\n",
    "(x_train, _), (x_test, _) = mnist.load_data()\n",
    "\n",
    "# Reshape and normalize data\n",
    "x_train = x_train.astype('float32') / 255.0\n",
    "x_test = x_test.astype('float32') / 255.0\n",
    "x_train = x_train.reshape((x_train.shape[0], x_train.shape[1] * x_train.shape[2]))\n",
    "x_test = x_test.reshape((x_test.shape[0], x_test.shape[1] * x_test.shape[2]))\n",
    "\n",
    "# Define the autoencoder model\n",
    "model = Sequential()\n",
    "model.add(Dense(32, activation='relu', input_shape=(x_train.shape[1],)))  # Encoder\n",
    "model.add(Dense(16, activation='relu'))  # Latent space (compressed representation)\n",
    "model.add(Dense(x_train.shape[1], activation='sigmoid'))  # Decoder\n",
    "\n",
    "# Compile the model\n",
    "model.compile(loss='binary_crossentropy', optimizer='adam')\n",
    "\n",
    "# Train the model\n",
    "model.fit(x_train, x_train, epochs=10, batch_size=128, validation_data=(x_test, x_test))\n",
    "\n",
    "# Encode and decode an image\n",
    "encoded_imgs = model.predict(x_test)\n",
    "\n",
    "# You can visualize the encoded_imgs and original images to see reconstruction quality"
   ]
  },
  {
   "cell_type": "code",
   "execution_count": 4,
   "metadata": {},
   "outputs": [
    {
     "data": {
      "image/png": "[encoded data removed]",
      "text/plain": [
       "<Figure size 800x300 with 3 Axes>"
      ]
     },
     "metadata": {},
     "output_type": "display_data"
    }
   ],
   "source": [
    "import numpy as np\n",
    "import matplotlib.pyplot as plt\n",
    "\n",
    "def visualize_autoencoder(original, reconstructed):\n",
    "  plt.figure(figsize=(8, 3))\n",
    "  # Original image\n",
    "  plt.subplot(1, 3, 1)\n",
    "  plt.imshow(original.reshape(28, 28), cmap='gray')\n",
    "  plt.title('Original')\n",
    "  plt.axis('off')\n",
    "  # Reconstructed image\n",
    "  plt.subplot(1, 3, 2)\n",
    "  plt.imshow(reconstructed.reshape(28, 28), cmap='gray')\n",
    "  plt.title('Reconstructed')\n",
    "  plt.axis('off')\n",
    "  # Difference image\n",
    "  difference = original - reconstructed\n",
    "  plt.subplot(1, 3, 3)\n",
    "  plt.imshow(difference.reshape(28, 28), cmap='gray')\n",
    "  plt.title('Difference')\n",
    "  plt.axis('off')\n",
    "  plt.show()\n",
    "\n",
    "# Select random test image for visualization\n",
    "sample_index = np.random.randint(0, len(x_test))\n",
    "original_image = x_test[sample_index]\n",
    "reconstructed_image = encoded_imgs[sample_index]\n",
    "visualize_autoencoder(original_image, reconstructed_image)"
   ]
  }
 ],
 "metadata": {
  "kernelspec": {
   "display_name": "Python 3",
   "language": "python",
   "name": "python3"
  },
  "language_info": {
   "codemirror_mode": {
    "name": "ipython",
    "version": 3
   },
   "file_extension": ".py",
   "mimetype": "text/x-python",
   "name": "python",
   "nbconvert_exporter": "python",
   "pygments_lexer": "ipython3",
   "version": "3.11.4"
  }
 },
 "nbformat": 4,
 "nbformat_minor": 2
}
